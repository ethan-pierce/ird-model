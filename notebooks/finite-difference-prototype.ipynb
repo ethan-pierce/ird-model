{
 "cells": [
  {
   "cell_type": "code",
   "execution_count": 1,
   "metadata": {},
   "outputs": [],
   "source": [
    "const nx = UInt32(1000)\n",
    "const ny = UInt32(200)\n",
    "const nz = UInt32(10)\n",
    "const h = UInt32(1);"
   ]
  },
  {
   "cell_type": "code",
   "execution_count": 7,
   "metadata": {},
   "outputs": [],
   "source": [
    "bedrock = fill!(Array{Float64, 2}(undef, nx, ny), 1);"
   ]
  },
  {
   "cell_type": "code",
   "execution_count": 11,
   "metadata": {},
   "outputs": [],
   "source": [
    "for y = 1:ny\n",
    "    for x = 1:nx\n",
    "        bedrock[x, y] = rand((0, 1)) + 0.1 * y^2 + 0.05 * x\n",
    "    end\n",
    "end"
   ]
  },
  {
   "cell_type": "code",
   "execution_count": 17,
   "metadata": {},
   "outputs": [
    {
     "name": "stderr",
     "output_type": "stream",
     "text": [
      "┌ Info: Precompiling Plots [91a5bcdd-55d7-5caf-9e0b-520d859cae80]\n",
      "└ @ Base loading.jl:1260\n",
      "ERROR: ERROR: LoadError: InterruptException:\n",
      "Stacktrace:\n",
      " [1] eval at ./boot.jl:331 [inlined]\n",
      " [2] eval(::Expr) at ./client.jl:449\n",
      " [3] top-level scope at ./none:3\n",
      "InterruptException:\n",
      "Stacktrace:\n",
      " [1] poptaskref(::Base.InvasiveLinkedListSynchronized{Task}) at ./task.jl:702\n",
      " [2] wait at ./task.jl:709 [inlined]\n",
      " [3] wait(::Base.GenericCondition{Base.Threads.SpinLock}) at ./condition.jl:106\n",
      " [4] wait(::Base.Process) at ./process.jl:622\n",
      " [5] success at ./process.jl:483 [inlined]\n",
      " [6] compilecache(::Base.PkgId, ::String) at ./loading.jl:1262\n",
      " [7] _require(::Base.PkgId) at ./loading.jl:1029\n",
      " [8] require(::Base.PkgId) at ./loading.jl:927\n",
      " [9] require(::Module, ::Symbol) at ./loading.jl:922\n",
      " [10] include(::Module, ::String) at ./Base.jl:377\n",
      " [11] top-level scope at none:2\n",
      " [12] eval at ./boot.jl:331 [inlined]\n",
      " [13] eval(::Expr) at ./client.jl:449\n",
      " [14] top-level scope at ./none:3\n",
      "in expression starting at /home/egp/.julia/packages/Plots/Xnzc7/src/Plots.jl:22\n"
     ]
    },
    {
     "ename": "ErrorException",
     "evalue": "Failed to precompile Plots [91a5bcdd-55d7-5caf-9e0b-520d859cae80] to /home/egp/.julia/compiled/v1.4/Plots/ld3vC_sVZ1S.ji.",
     "output_type": "error",
     "traceback": [
      "Failed to precompile Plots [91a5bcdd-55d7-5caf-9e0b-520d859cae80] to /home/egp/.julia/compiled/v1.4/Plots/ld3vC_sVZ1S.ji.",
      "",
      "Stacktrace:",
      " [1] error(::String) at ./error.jl:33",
      " [2] compilecache(::Base.PkgId, ::String) at ./loading.jl:1272",
      " [3] _require(::Base.PkgId) at ./loading.jl:1029",
      " [4] require(::Base.PkgId) at ./loading.jl:927",
      " [5] require(::Module, ::Symbol) at ./loading.jl:922",
      " [6] top-level scope at In[17]:1"
     ]
    }
   ],
   "source": [
    "using Plots\n",
    "plot(bedrock)"
   ]
  }
 ],
 "metadata": {
  "kernelspec": {
   "display_name": "Julia 1.4.2",
   "language": "julia",
   "name": "julia-1.4"
  },
  "language_info": {
   "file_extension": ".jl",
   "mimetype": "application/julia",
   "name": "julia",
   "version": "1.4.2"
  }
 },
 "nbformat": 4,
 "nbformat_minor": 4
}
